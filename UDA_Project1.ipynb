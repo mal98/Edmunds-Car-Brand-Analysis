{
  "nbformat": 4,
  "nbformat_minor": 0,
  "metadata": {
    "colab": {
      "name": "Copy of Final_UDA_Project1.ipynb",
      "provenance": [],
      "collapsed_sections": []
    },
    "kernelspec": {
      "name": "python3",
      "display_name": "Python 3"
    }
  },
  "cells": [
    {
      "cell_type": "markdown",
      "metadata": {
        "id": "jnWOiRoXzD-Z"
      },
      "source": [
        "# Unstructured Data Analytics: Project 1\n",
        "Team members: Amulya Saridey, Debleena Das, Ella Akl, Malavika Prasad, Kinjal Doshi"
      ]
    },
    {
      "cell_type": "markdown",
      "metadata": {
        "id": "KQhbZrVfy5bF"
      },
      "source": [
        "**TASK 1 & 2: FETCH 5-6k OF THE NEWEST COMMENTS POSTED ON EDMUNDS.COM AND EXTRACT TO .CSV FILE**\n",
        "\n",
        "Forum link: https://forums.edmunds.com/discussion/2864/general/x/entry-level-luxury-performance-sedans/p330"
      ]
    },
    {
      "cell_type": "code",
      "metadata": {
        "id": "v694d1ZDWYtQ",
        "outputId": "baf95244-067c-4547-f8ba-8ecf541cb935",
        "colab": {
          "base_uri": "https://localhost:8080/",
          "height": 357
        }
      },
      "source": [
        "# Import packages for ChromeDriver\n",
        "!pip install selenium\n",
        "!apt-get -q update # To update ubuntu to correctly run apt install\n",
        "!apt install -yq chromium-chromedriver\n",
        "!cp /usr/lib/chromium-browser/chromedriver /usr/bin\n",
        "\n",
        "import sys\n",
        "from selenium import webdriver\n",
        "sys.path.insert(0,'/usr/lib/chromium-browser/chromedriver')\n",
        "chrome_options = webdriver.ChromeOptions()\n",
        "chrome_options.add_argument('--headless')\n",
        "chrome_options.add_argument('--no-sandbox')\n",
        "chrome_options.add_argument('--disable-dev-shm-usage')\n",
        "\n",
        "# Initialize the driver\n",
        "driver = webdriver.Chrome('chromedriver', options=chrome_options)"
      ],
      "execution_count": 3,
      "outputs": [
        {
          "output_type": "stream",
          "text": [
            "Requirement already satisfied: selenium in /usr/local/lib/python3.6/dist-packages (3.141.0)\n",
            "Requirement already satisfied: urllib3 in /usr/local/lib/python3.6/dist-packages (from selenium) (1.24.3)\n",
            "Hit:1 http://security.ubuntu.com/ubuntu bionic-security InRelease\n",
            "Ign:2 https://developer.download.nvidia.com/compute/cuda/repos/ubuntu1804/x86_64  InRelease\n",
            "Hit:3 https://cloud.r-project.org/bin/linux/ubuntu bionic-cran40/ InRelease\n",
            "Ign:4 https://developer.download.nvidia.com/compute/machine-learning/repos/ubuntu1804/x86_64  InRelease\n",
            "Hit:5 http://ppa.launchpad.net/c2d4u.team/c2d4u4.0+/ubuntu bionic InRelease\n",
            "Hit:6 https://developer.download.nvidia.com/compute/cuda/repos/ubuntu1804/x86_64  Release\n",
            "Hit:7 https://developer.download.nvidia.com/compute/machine-learning/repos/ubuntu1804/x86_64  Release\n",
            "Hit:8 http://archive.ubuntu.com/ubuntu bionic InRelease\n",
            "Hit:9 http://archive.ubuntu.com/ubuntu bionic-updates InRelease\n",
            "Hit:10 http://ppa.launchpad.net/graphics-drivers/ppa/ubuntu bionic InRelease\n",
            "Hit:11 http://archive.ubuntu.com/ubuntu bionic-backports InRelease\n",
            "Reading package lists...\n",
            "Reading package lists...\n",
            "Building dependency tree...\n",
            "Reading state information...\n",
            "chromium-chromedriver is already the newest version (85.0.4183.121-0ubuntu0.18.04.1).\n",
            "0 upgraded, 0 newly installed, 0 to remove and 23 not upgraded.\n",
            "cp: '/usr/lib/chromium-browser/chromedriver' and '/usr/bin/chromedriver' are the same file\n"
          ],
          "name": "stdout"
        }
      ]
    },
    {
      "cell_type": "code",
      "metadata": {
        "id": "nQWxUITkWiH5",
        "outputId": "475eeae3-2cd9-495a-c69a-4a29f85034db",
        "colab": {
          "base_uri": "https://localhost:8080/",
          "height": 102
        }
      },
      "source": [
        "# Import all other necessary packages\n",
        "\n",
        "import pandas as pd\n",
        "import re\n",
        "import nltk\n",
        "import csv\n",
        "import itertools\n",
        "import operator\n",
        "import matplotlib.pyplot as plt\n",
        "from sklearn.manifold import MDS\n",
        "from sklearn.preprocessing import MinMaxScaler\n",
        "from itertools import chain\n",
        "from collections import Counter\n",
        "from nltk.corpus import stopwords \n",
        "from nltk.tokenize import word_tokenize\n",
        "nltk.download('stopwords')\n",
        "nltk.download('punkt')"
      ],
      "execution_count": 4,
      "outputs": [
        {
          "output_type": "stream",
          "text": [
            "[nltk_data] Downloading package stopwords to /root/nltk_data...\n",
            "[nltk_data]   Package stopwords is already up-to-date!\n",
            "[nltk_data] Downloading package punkt to /root/nltk_data...\n",
            "[nltk_data]   Package punkt is already up-to-date!\n"
          ],
          "name": "stdout"
        },
        {
          "output_type": "execute_result",
          "data": {
            "text/plain": [
              "True"
            ]
          },
          "metadata": {
            "tags": []
          },
          "execution_count": 4
        }
      ]
    },
    {
      "cell_type": "markdown",
      "metadata": {
        "id": "OebLWkyWiyVv"
      },
      "source": [
        "**Extract the comments and save to a csv file**\n",
        "# Forum link: https://forums.edmunds.com/discussion/2864/general/x/entry-level-luxury-performance-sedans/p330"
      ]
    },
    {
      "cell_type": "code",
      "metadata": {
        "id": "RVNoWbJcWqLT",
        "outputId": "8f2de107-c3ba-4ac4-b453-87bf85c9bce3",
        "colab": {
          "base_uri": "https://localhost:8080/",
          "height": 34
        }
      },
      "source": [
        "df_comments = pd.DataFrame(columns = ['date','user_id','comments']) \n",
        "\n",
        "for page in range(330,435): # Grabs comments from pages 330- 445 (approximately 5250 comments)\n",
        "  driver.get(f'https://forums.edmunds.com/discussion/2864/general/x/entry-level-luxury-performance-sedans/p{page}')\n",
        "\n",
        "  ids = driver.find_elements_by_xpath(\"//*[contains(@id,'Comment_')]\")\n",
        "\n",
        "  comment_ids = []\n",
        "  for i in ids:\n",
        "    comment_ids.append(i.get_attribute('id'))\n",
        "\n",
        "  for x in comment_ids:\n",
        "      # Extract dates from for each user on a page\n",
        "      user_date = driver.find_elements_by_xpath('//*[@id=\"' + x +'\"]/div/div[2]/div[2]/span[1]/a/time')[0]\n",
        "      date = user_date.get_attribute('title')\n",
        "\n",
        "      # Extract user ids from each user on a page\n",
        "      userid_element = driver.find_elements_by_xpath('//*[@id=\"' + x +'\"]/div/div[2]/div[1]/span[1]/a[2]')[0]\n",
        "      userid = userid_element.text\n",
        "\n",
        "      # Extract Message for each user on a page\n",
        "      user_message = driver.find_elements_by_xpath('//*[@id=\"' + x +'\"]/div/div[3]/div/div[1]')[0]\n",
        "      \n",
        "      comment = (user_message.text).lower()\n",
        "\n",
        "      # Remove blockquotes from user_message, don't include them in comments\n",
        "      comment_element = driver.find_element_by_xpath('//*[@id=\"' + x + '\"]/div/div[3]/div/div[1]')\n",
        "      blockquote = comment_element.find_elements_by_class_name('UserQuote')\n",
        "      if blockquote: # If it exists, replace blockquote with an empty string\n",
        "        comment = comment.replace(blockquote[0].text, '')\n",
        "                                    \n",
        "      # Adding date, userid and comment for each user in a dataframe    \n",
        "      df_comments.loc[len(df_comments)] = [date,userid,comment]\n",
        "    \n",
        "# Some text clean-up\n",
        "df_comments = df_comments.copy()\n",
        "df_comments = df_comments.replace(r'\\n',' ', regex=True)\n",
        "df_comments = df_comments.replace(r'\\t',' ', regex=True)\n",
        "df_comments = df_comments.replace(r', ',' ', regex=True)\n",
        "\n",
        "print(f\"{df_comments.shape} comments were scraped.\")\n",
        "\n",
        "# Save comments to a csv\n",
        "df_comments.to_csv('comments.csv', index=False)"
      ],
      "execution_count": 5,
      "outputs": [
        {
          "output_type": "stream",
          "text": [
            "(5250, 3) comments were scraped.\n"
          ],
          "name": "stdout"
        }
      ]
    },
    {
      "cell_type": "code",
      "metadata": {
        "id": "r_V6j5YwgqAx"
      },
      "source": [
        "# Read the cleaned car models and brands csv\n",
        "car_model_brand = pd.read_csv(\"car_models_and_brands.csv\", names=[\"model\", \"brand\"])"
      ],
      "execution_count": 7,
      "outputs": []
    },
    {
      "cell_type": "code",
      "metadata": {
        "id": "RI9apx25gqZI"
      },
      "source": [
        "# Replace the models with the brands in each comment\n",
        "new_comments = [] # List to store the new comments\n",
        "for i in range(len(df_comments['comments'])):\n",
        "  comment_split = str(df_comments['comments'][i]).split(' ') \n",
        "\n",
        "  for j in range(len(comment_split)): # Loop through each word in the comment\n",
        "    for k in range(len(car_model_brand['model'])):\n",
        "      if comment_split[j] == car_model_brand['model'][k]: # If the current word matches a brand in the list\n",
        "        comment_split[j] = comment_split[j].replace(comment_split[j], car_model_brand['brand'][k]) # Replace the word with the brand\n",
        "  \n",
        "  new_comments.append(\" \".join(comment_split))"
      ],
      "execution_count": 8,
      "outputs": []
    },
    {
      "cell_type": "code",
      "metadata": {
        "id": "E24ZYScqO7TV"
      },
      "source": [
        "# Create a new column in the DataFrame to store the new comments from the previous cell\n",
        "df_comments[\"filtered_comments\"] = new_comments\n",
        "df_comments.to_csv('filtered_comments.csv', index=False)"
      ],
      "execution_count": 32,
      "outputs": []
    },
    {
      "cell_type": "markdown",
      "metadata": {
        "id": "LHfAsqZEcG9V"
      },
      "source": [
        "**TASK 3: FILTER OUT STOPWORDS & GET THE TOP 10 CAR BRANDS BASED ON FREQUENCY**"
      ]
    },
    {
      "cell_type": "code",
      "metadata": {
        "id": "Fe7ZwyPLebCH"
      },
      "source": [
        "stop_words = set(stopwords.words('english'))\n",
        "symbols = [\"...\", \"``\", \"’\", \"''\", \"n't\", \"'s\",\".\", \",\", \";\", \":\", \"?\", \"!\", \"$\", \"#\", \"@\", \"%\", \"^\", \"^\", \"&\", \"*\", \"(\", \")\", \"-\", \"=\", \"+\", \"{\", \"}\", \"[\", \"]\", \"\\\\\", \"/\", \"'\", \"`\", \"~\", \"<\", \">\"]\n"
      ],
      "execution_count": 10,
      "outputs": []
    },
    {
      "cell_type": "code",
      "metadata": {
        "id": "9oz9B8NIxEZB"
      },
      "source": [
        "# Filter out the stopwords and symbols\n",
        "filtered_comments = [] # List to store the comments after being cleaned\n",
        "\n",
        "for c in df_comments['filtered_comments']:\n",
        "  word_tokens = word_tokenize(c)\n",
        "\n",
        "  filtered_sentence1 = [w for w in word_tokens if not w in stop_words]\n",
        "  filtered_sentence2 = []\n",
        "\n",
        "  for w in filtered_sentence1:\n",
        "    if w not in symbols:\n",
        "      filtered_sentence2.append(w)\n",
        "\n",
        "  filtered_comments.append(filtered_sentence2)"
      ],
      "execution_count": 11,
      "outputs": []
    },
    {
      "cell_type": "code",
      "metadata": {
        "id": "Q6Megof2UTb5",
        "outputId": "73608751-ee94-4fee-8133-200bc2462280",
        "colab": {
          "base_uri": "https://localhost:8080/",
          "height": 855
        }
      },
      "source": [
        "# Get the word counts for each brand\n",
        "# Exclude the repeat mentions in the same comment\n",
        "brands = list(set(car_model_brand['brand']))\n",
        "brand_counts = pd.DataFrame(brands, columns = ['brand'])\n",
        "brand_counts['count'] = 0 # Create a new column in the DataFrame to keep track of the brand counts\n",
        "\n",
        "for comment in filtered_comments: # Loop through each comment\n",
        "  mentioned_brands = [] # List to keep track of the brands already mentioned in a comment - to prevent counting repeats\n",
        "  for word in comment: # Loop through each word\n",
        "    for i in range(len(brands)): # Loop through each brand\n",
        "      if word == brands[i]: \n",
        "        if word not in mentioned_brands:\n",
        "          # If word matches a brand, increment the brand in the DataFrame\n",
        "          # and add word to mentioned_brands\n",
        "          # Note: this will exclude all repeat mentions\n",
        "          brand_counts.loc[brand_counts['brand'] == word, 'count'] += 1\n",
        "          mentioned_brands.append(word)\n",
        "\n",
        "brand_counts= brand_counts[1:]\n",
        "brand_counts"
      ],
      "execution_count": 12,
      "outputs": [
        {
          "output_type": "execute_result",
          "data": {
            "text/html": [
              "<div>\n",
              "<style scoped>\n",
              "    .dataframe tbody tr th:only-of-type {\n",
              "        vertical-align: middle;\n",
              "    }\n",
              "\n",
              "    .dataframe tbody tr th {\n",
              "        vertical-align: top;\n",
              "    }\n",
              "\n",
              "    .dataframe thead th {\n",
              "        text-align: right;\n",
              "    }\n",
              "</style>\n",
              "<table border=\"1\" class=\"dataframe\">\n",
              "  <thead>\n",
              "    <tr style=\"text-align: right;\">\n",
              "      <th></th>\n",
              "      <th>brand</th>\n",
              "      <th>count</th>\n",
              "    </tr>\n",
              "  </thead>\n",
              "  <tbody>\n",
              "    <tr>\n",
              "      <th>1</th>\n",
              "      <td>toyota</td>\n",
              "      <td>226</td>\n",
              "    </tr>\n",
              "    <tr>\n",
              "      <th>2</th>\n",
              "      <td>mercedes</td>\n",
              "      <td>278</td>\n",
              "    </tr>\n",
              "    <tr>\n",
              "      <th>3</th>\n",
              "      <td>lincoln</td>\n",
              "      <td>92</td>\n",
              "    </tr>\n",
              "    <tr>\n",
              "      <th>4</th>\n",
              "      <td>audi</td>\n",
              "      <td>941</td>\n",
              "    </tr>\n",
              "    <tr>\n",
              "      <th>5</th>\n",
              "      <td>kia</td>\n",
              "      <td>141</td>\n",
              "    </tr>\n",
              "    <tr>\n",
              "      <th>6</th>\n",
              "      <td>sedan</td>\n",
              "      <td>295</td>\n",
              "    </tr>\n",
              "    <tr>\n",
              "      <th>7</th>\n",
              "      <td>infiniti</td>\n",
              "      <td>278</td>\n",
              "    </tr>\n",
              "    <tr>\n",
              "      <th>8</th>\n",
              "      <td>suzuki</td>\n",
              "      <td>1</td>\n",
              "    </tr>\n",
              "    <tr>\n",
              "      <th>9</th>\n",
              "      <td>mitsubishi</td>\n",
              "      <td>2</td>\n",
              "    </tr>\n",
              "    <tr>\n",
              "      <th>10</th>\n",
              "      <td>pontiac</td>\n",
              "      <td>21</td>\n",
              "    </tr>\n",
              "    <tr>\n",
              "      <th>11</th>\n",
              "      <td>chevrolet</td>\n",
              "      <td>123</td>\n",
              "    </tr>\n",
              "    <tr>\n",
              "      <th>12</th>\n",
              "      <td>saturn</td>\n",
              "      <td>3</td>\n",
              "    </tr>\n",
              "    <tr>\n",
              "      <th>13</th>\n",
              "      <td>bmw</td>\n",
              "      <td>1293</td>\n",
              "    </tr>\n",
              "    <tr>\n",
              "      <th>14</th>\n",
              "      <td>mazda</td>\n",
              "      <td>106</td>\n",
              "    </tr>\n",
              "    <tr>\n",
              "      <th>15</th>\n",
              "      <td>dodge</td>\n",
              "      <td>83</td>\n",
              "    </tr>\n",
              "    <tr>\n",
              "      <th>16</th>\n",
              "      <td>volvo</td>\n",
              "      <td>163</td>\n",
              "    </tr>\n",
              "    <tr>\n",
              "      <th>17</th>\n",
              "      <td>volkswagen</td>\n",
              "      <td>269</td>\n",
              "    </tr>\n",
              "    <tr>\n",
              "      <th>18</th>\n",
              "      <td>cadillac</td>\n",
              "      <td>255</td>\n",
              "    </tr>\n",
              "    <tr>\n",
              "      <th>19</th>\n",
              "      <td>honda</td>\n",
              "      <td>475</td>\n",
              "    </tr>\n",
              "    <tr>\n",
              "      <th>20</th>\n",
              "      <td>buick</td>\n",
              "      <td>95</td>\n",
              "    </tr>\n",
              "    <tr>\n",
              "      <th>21</th>\n",
              "      <td>acura</td>\n",
              "      <td>592</td>\n",
              "    </tr>\n",
              "    <tr>\n",
              "      <th>22</th>\n",
              "      <td>chrysler</td>\n",
              "      <td>71</td>\n",
              "    </tr>\n",
              "    <tr>\n",
              "      <th>23</th>\n",
              "      <td>hyundai</td>\n",
              "      <td>221</td>\n",
              "    </tr>\n",
              "    <tr>\n",
              "      <th>24</th>\n",
              "      <td>mercury</td>\n",
              "      <td>12</td>\n",
              "    </tr>\n",
              "    <tr>\n",
              "      <th>25</th>\n",
              "      <td>ford</td>\n",
              "      <td>205</td>\n",
              "    </tr>\n",
              "    <tr>\n",
              "      <th>26</th>\n",
              "      <td>nissan</td>\n",
              "      <td>64</td>\n",
              "    </tr>\n",
              "  </tbody>\n",
              "</table>\n",
              "</div>"
            ],
            "text/plain": [
              "         brand  count\n",
              "1       toyota    226\n",
              "2     mercedes    278\n",
              "3      lincoln     92\n",
              "4         audi    941\n",
              "5          kia    141\n",
              "6        sedan    295\n",
              "7     infiniti    278\n",
              "8       suzuki      1\n",
              "9   mitsubishi      2\n",
              "10     pontiac     21\n",
              "11   chevrolet    123\n",
              "12      saturn      3\n",
              "13         bmw   1293\n",
              "14       mazda    106\n",
              "15       dodge     83\n",
              "16       volvo    163\n",
              "17  volkswagen    269\n",
              "18    cadillac    255\n",
              "19       honda    475\n",
              "20       buick     95\n",
              "21       acura    592\n",
              "22    chrysler     71\n",
              "23     hyundai    221\n",
              "24     mercury     12\n",
              "25        ford    205\n",
              "26      nissan     64"
            ]
          },
          "metadata": {
            "tags": []
          },
          "execution_count": 12
        }
      ]
    },
    {
      "cell_type": "markdown",
      "metadata": {
        "id": "NFuT7vMlh0kr"
      },
      "source": [
        "**TASK A: TOP 10 BRANDS BY FREQUENCY**"
      ]
    },
    {
      "cell_type": "code",
      "metadata": {
        "id": "uT0WVXzN-PhW",
        "outputId": "acd31e28-4304-49be-bf31-d686c0559b7d",
        "colab": {
          "base_uri": "https://localhost:8080/",
          "height": 359
        }
      },
      "source": [
        "# Get the top 10 brands\n",
        "top_10_brands = brand_counts.nlargest(10, 'count')\n",
        "top_10_brands"
      ],
      "execution_count": 13,
      "outputs": [
        {
          "output_type": "execute_result",
          "data": {
            "text/html": [
              "<div>\n",
              "<style scoped>\n",
              "    .dataframe tbody tr th:only-of-type {\n",
              "        vertical-align: middle;\n",
              "    }\n",
              "\n",
              "    .dataframe tbody tr th {\n",
              "        vertical-align: top;\n",
              "    }\n",
              "\n",
              "    .dataframe thead th {\n",
              "        text-align: right;\n",
              "    }\n",
              "</style>\n",
              "<table border=\"1\" class=\"dataframe\">\n",
              "  <thead>\n",
              "    <tr style=\"text-align: right;\">\n",
              "      <th></th>\n",
              "      <th>brand</th>\n",
              "      <th>count</th>\n",
              "    </tr>\n",
              "  </thead>\n",
              "  <tbody>\n",
              "    <tr>\n",
              "      <th>13</th>\n",
              "      <td>bmw</td>\n",
              "      <td>1293</td>\n",
              "    </tr>\n",
              "    <tr>\n",
              "      <th>4</th>\n",
              "      <td>audi</td>\n",
              "      <td>941</td>\n",
              "    </tr>\n",
              "    <tr>\n",
              "      <th>21</th>\n",
              "      <td>acura</td>\n",
              "      <td>592</td>\n",
              "    </tr>\n",
              "    <tr>\n",
              "      <th>19</th>\n",
              "      <td>honda</td>\n",
              "      <td>475</td>\n",
              "    </tr>\n",
              "    <tr>\n",
              "      <th>6</th>\n",
              "      <td>sedan</td>\n",
              "      <td>295</td>\n",
              "    </tr>\n",
              "    <tr>\n",
              "      <th>2</th>\n",
              "      <td>mercedes</td>\n",
              "      <td>278</td>\n",
              "    </tr>\n",
              "    <tr>\n",
              "      <th>7</th>\n",
              "      <td>infiniti</td>\n",
              "      <td>278</td>\n",
              "    </tr>\n",
              "    <tr>\n",
              "      <th>17</th>\n",
              "      <td>volkswagen</td>\n",
              "      <td>269</td>\n",
              "    </tr>\n",
              "    <tr>\n",
              "      <th>18</th>\n",
              "      <td>cadillac</td>\n",
              "      <td>255</td>\n",
              "    </tr>\n",
              "    <tr>\n",
              "      <th>1</th>\n",
              "      <td>toyota</td>\n",
              "      <td>226</td>\n",
              "    </tr>\n",
              "  </tbody>\n",
              "</table>\n",
              "</div>"
            ],
            "text/plain": [
              "         brand  count\n",
              "13         bmw   1293\n",
              "4         audi    941\n",
              "21       acura    592\n",
              "19       honda    475\n",
              "6        sedan    295\n",
              "2     mercedes    278\n",
              "7     infiniti    278\n",
              "17  volkswagen    269\n",
              "18    cadillac    255\n",
              "1       toyota    226"
            ]
          },
          "metadata": {
            "tags": []
          },
          "execution_count": 13
        }
      ]
    },
    {
      "cell_type": "markdown",
      "metadata": {
        "id": "u4baGaTShsuU"
      },
      "source": [
        "**TASK A: LIFT CALCULATION**"
      ]
    },
    {
      "cell_type": "code",
      "metadata": {
        "id": "F8b3IHzxRaFS"
      },
      "source": [
        "# Convert brand and its associated frequency into lists\n",
        "brand_list = list(top_10_brands['brand'])\n",
        "freq_brand = list(top_10_brands['count'])"
      ],
      "execution_count": 14,
      "outputs": []
    },
    {
      "cell_type": "code",
      "metadata": {
        "id": "Lb6xCQxsRhVo"
      },
      "source": [
        "# Find the combination of brand pairs occurring in the same comment and save it to a list\n",
        "pair_list = []\n",
        "for brand in range(0, len(brand_list)):\n",
        "  for brand2 in range(brand+1, len(brand_list)):\n",
        "    pair_list.append([brand_list[brand], brand_list[brand2]])"
      ],
      "execution_count": 15,
      "outputs": []
    },
    {
      "cell_type": "code",
      "metadata": {
        "id": "Vq_DelfMTWlE"
      },
      "source": [
        "# Calculate lift\n",
        "samples = df_comments.shape[0]\n",
        "\n",
        "def calcLift(brand1, brand2):\n",
        "  # Getting the frequency of brand 1 in each comment\n",
        "  brand1freq = sum(df_comments.apply(lambda x: brand1 in x['filtered_comments'], axis=1)) \n",
        "  # Getting the frequency of brand 2 in each comment\n",
        "  brand2freq = sum(df_comments.apply(lambda x: brand2 in x['filtered_comments'], axis=1))\n",
        "  # Getting the frequency of brand 1 and brand 2 in each comment\n",
        "  bothBrandFreq = sum(df_comments.apply(lambda x: brand1 in x['filtered_comments'] and brand2 in x['filtered_comments'], axis=1))\n",
        "  # Applying the lift formula\n",
        "  lift = float(bothBrandFreq*samples)/(float(brand1freq)*(float(brand2freq))) \n",
        "  return lift\n",
        "\n",
        "# A dictionary to save all lift values\n",
        "lift_dict ={}\n",
        "\n",
        "# Passing each pair of brands into the lift calculation function \n",
        "for combo in pair_list:\n",
        "  brand1, brand2 = combo[0], combo[1]\n",
        "  lift_value= calcLift(brand1, brand2)\n",
        "\n",
        "  lift_dict[brand1, brand2] = lift_value # Saving the lift value to the dictionary\n"
      ],
      "execution_count": 16,
      "outputs": []
    },
    {
      "cell_type": "code",
      "metadata": {
        "id": "4y5DSsaveBtQ",
        "outputId": "cf321fef-db08-49fa-86bf-60cd57381a83",
        "colab": {
          "base_uri": "https://localhost:8080/",
          "height": 359
        }
      },
      "source": [
        "# Converting the dictionary to a dataframe to display in a table format\n",
        "lift_df = pd.DataFrame(columns=brand_list, index=brand_list)\n",
        "\n",
        "for value in lift_dict: # Populating the table with the appropriate lift values\n",
        "  brand1, brand2 = value\n",
        "  lift_df.loc[brand1, brand2] = lift_dict[brand1, brand2]\n",
        "\n",
        "lift_df"
      ],
      "execution_count": 17,
      "outputs": [
        {
          "output_type": "execute_result",
          "data": {
            "text/html": [
              "<div>\n",
              "<style scoped>\n",
              "    .dataframe tbody tr th:only-of-type {\n",
              "        vertical-align: middle;\n",
              "    }\n",
              "\n",
              "    .dataframe tbody tr th {\n",
              "        vertical-align: top;\n",
              "    }\n",
              "\n",
              "    .dataframe thead th {\n",
              "        text-align: right;\n",
              "    }\n",
              "</style>\n",
              "<table border=\"1\" class=\"dataframe\">\n",
              "  <thead>\n",
              "    <tr style=\"text-align: right;\">\n",
              "      <th></th>\n",
              "      <th>bmw</th>\n",
              "      <th>audi</th>\n",
              "      <th>acura</th>\n",
              "      <th>honda</th>\n",
              "      <th>sedan</th>\n",
              "      <th>mercedes</th>\n",
              "      <th>infiniti</th>\n",
              "      <th>volkswagen</th>\n",
              "      <th>cadillac</th>\n",
              "      <th>toyota</th>\n",
              "    </tr>\n",
              "  </thead>\n",
              "  <tbody>\n",
              "    <tr>\n",
              "      <th>bmw</th>\n",
              "      <td>NaN</td>\n",
              "      <td>1.7201</td>\n",
              "      <td>1.28125</td>\n",
              "      <td>1.02754</td>\n",
              "      <td>1.7281</td>\n",
              "      <td>2.59764</td>\n",
              "      <td>1.84682</td>\n",
              "      <td>1.05047</td>\n",
              "      <td>1.81343</td>\n",
              "      <td>1.29543</td>\n",
              "    </tr>\n",
              "    <tr>\n",
              "      <th>audi</th>\n",
              "      <td>NaN</td>\n",
              "      <td>NaN</td>\n",
              "      <td>1.96889</td>\n",
              "      <td>1.59788</td>\n",
              "      <td>1.7684</td>\n",
              "      <td>3.12889</td>\n",
              "      <td>2.60185</td>\n",
              "      <td>2.37421</td>\n",
              "      <td>2.66215</td>\n",
              "      <td>1.77987</td>\n",
              "    </tr>\n",
              "    <tr>\n",
              "      <th>acura</th>\n",
              "      <td>NaN</td>\n",
              "      <td>NaN</td>\n",
              "      <td>NaN</td>\n",
              "      <td>3.30373</td>\n",
              "      <td>2.15154</td>\n",
              "      <td>2.6153</td>\n",
              "      <td>3.95044</td>\n",
              "      <td>1.11644</td>\n",
              "      <td>2.54391</td>\n",
              "      <td>1.67447</td>\n",
              "    </tr>\n",
              "    <tr>\n",
              "      <th>honda</th>\n",
              "      <td>NaN</td>\n",
              "      <td>NaN</td>\n",
              "      <td>NaN</td>\n",
              "      <td>NaN</td>\n",
              "      <td>2.02395</td>\n",
              "      <td>1.41263</td>\n",
              "      <td>1.96263</td>\n",
              "      <td>1.98213</td>\n",
              "      <td>1.28725</td>\n",
              "      <td>3.1453</td>\n",
              "    </tr>\n",
              "    <tr>\n",
              "      <th>sedan</th>\n",
              "      <td>NaN</td>\n",
              "      <td>NaN</td>\n",
              "      <td>NaN</td>\n",
              "      <td>NaN</td>\n",
              "      <td>NaN</td>\n",
              "      <td>2.40184</td>\n",
              "      <td>2.51482</td>\n",
              "      <td>1.1205</td>\n",
              "      <td>2.02429</td>\n",
              "      <td>1.29543</td>\n",
              "    </tr>\n",
              "    <tr>\n",
              "      <th>mercedes</th>\n",
              "      <td>NaN</td>\n",
              "      <td>NaN</td>\n",
              "      <td>NaN</td>\n",
              "      <td>NaN</td>\n",
              "      <td>NaN</td>\n",
              "      <td>NaN</td>\n",
              "      <td>4.08337</td>\n",
              "      <td>1.23827</td>\n",
              "      <td>4.12088</td>\n",
              "      <td>1.58228</td>\n",
              "    </tr>\n",
              "    <tr>\n",
              "      <th>infiniti</th>\n",
              "      <td>NaN</td>\n",
              "      <td>NaN</td>\n",
              "      <td>NaN</td>\n",
              "      <td>NaN</td>\n",
              "      <td>NaN</td>\n",
              "      <td>NaN</td>\n",
              "      <td>NaN</td>\n",
              "      <td>1.2425</td>\n",
              "      <td>3.2817</td>\n",
              "      <td>2.1169</td>\n",
              "    </tr>\n",
              "    <tr>\n",
              "      <th>volkswagen</th>\n",
              "      <td>NaN</td>\n",
              "      <td>NaN</td>\n",
              "      <td>NaN</td>\n",
              "      <td>NaN</td>\n",
              "      <td>NaN</td>\n",
              "      <td>NaN</td>\n",
              "      <td>NaN</td>\n",
              "      <td>NaN</td>\n",
              "      <td>0.982594</td>\n",
              "      <td>2.34454</td>\n",
              "    </tr>\n",
              "    <tr>\n",
              "      <th>cadillac</th>\n",
              "      <td>NaN</td>\n",
              "      <td>NaN</td>\n",
              "      <td>NaN</td>\n",
              "      <td>NaN</td>\n",
              "      <td>NaN</td>\n",
              "      <td>NaN</td>\n",
              "      <td>NaN</td>\n",
              "      <td>NaN</td>\n",
              "      <td>NaN</td>\n",
              "      <td>2.02856</td>\n",
              "    </tr>\n",
              "    <tr>\n",
              "      <th>toyota</th>\n",
              "      <td>NaN</td>\n",
              "      <td>NaN</td>\n",
              "      <td>NaN</td>\n",
              "      <td>NaN</td>\n",
              "      <td>NaN</td>\n",
              "      <td>NaN</td>\n",
              "      <td>NaN</td>\n",
              "      <td>NaN</td>\n",
              "      <td>NaN</td>\n",
              "      <td>NaN</td>\n",
              "    </tr>\n",
              "  </tbody>\n",
              "</table>\n",
              "</div>"
            ],
            "text/plain": [
              "            bmw    audi    acura  ... volkswagen  cadillac   toyota\n",
              "bmw         NaN  1.7201  1.28125  ...    1.05047   1.81343  1.29543\n",
              "audi        NaN     NaN  1.96889  ...    2.37421   2.66215  1.77987\n",
              "acura       NaN     NaN      NaN  ...    1.11644   2.54391  1.67447\n",
              "honda       NaN     NaN      NaN  ...    1.98213   1.28725   3.1453\n",
              "sedan       NaN     NaN      NaN  ...     1.1205   2.02429  1.29543\n",
              "mercedes    NaN     NaN      NaN  ...    1.23827   4.12088  1.58228\n",
              "infiniti    NaN     NaN      NaN  ...     1.2425    3.2817   2.1169\n",
              "volkswagen  NaN     NaN      NaN  ...        NaN  0.982594  2.34454\n",
              "cadillac    NaN     NaN      NaN  ...        NaN       NaN  2.02856\n",
              "toyota      NaN     NaN      NaN  ...        NaN       NaN      NaN\n",
              "\n",
              "[10 rows x 10 columns]"
            ]
          },
          "metadata": {
            "tags": []
          },
          "execution_count": 17
        }
      ]
    },
    {
      "cell_type": "markdown",
      "metadata": {
        "id": "7oWTe6JsNxQL"
      },
      "source": [
        "**TASK A: MDS PLOT**\n",
        "\n",
        "\n",
        "\n"
      ]
    },
    {
      "cell_type": "code",
      "metadata": {
        "id": "mCS8qBxvmuGh",
        "outputId": "c16f25fb-9fcc-4c4a-f4df-37de9d5fef93",
        "colab": {
          "base_uri": "https://localhost:8080/",
          "height": 359
        }
      },
      "source": [
        "# Dissimilarity matrix \n",
        "dis_matrix_df = pd.DataFrame(columns=brand_list, index=brand_list)\n",
        "\n",
        "for i,j in lift_dict: # For each lift value in the dictionary, find the dissimilarity value\n",
        "  dissimilarity_matrix = 1/lift_df[j][i] \n",
        "  dis_matrix_df[i][i]= 0\n",
        "  dis_matrix_df[j][j]= 0\n",
        "  dis_matrix_df[j][i] = dissimilarity_matrix\n",
        "  \n",
        "dis_matrix_df"
      ],
      "execution_count": 18,
      "outputs": [
        {
          "output_type": "execute_result",
          "data": {
            "text/html": [
              "<div>\n",
              "<style scoped>\n",
              "    .dataframe tbody tr th:only-of-type {\n",
              "        vertical-align: middle;\n",
              "    }\n",
              "\n",
              "    .dataframe tbody tr th {\n",
              "        vertical-align: top;\n",
              "    }\n",
              "\n",
              "    .dataframe thead th {\n",
              "        text-align: right;\n",
              "    }\n",
              "</style>\n",
              "<table border=\"1\" class=\"dataframe\">\n",
              "  <thead>\n",
              "    <tr style=\"text-align: right;\">\n",
              "      <th></th>\n",
              "      <th>bmw</th>\n",
              "      <th>audi</th>\n",
              "      <th>acura</th>\n",
              "      <th>honda</th>\n",
              "      <th>sedan</th>\n",
              "      <th>mercedes</th>\n",
              "      <th>infiniti</th>\n",
              "      <th>volkswagen</th>\n",
              "      <th>cadillac</th>\n",
              "      <th>toyota</th>\n",
              "    </tr>\n",
              "  </thead>\n",
              "  <tbody>\n",
              "    <tr>\n",
              "      <th>bmw</th>\n",
              "      <td>0</td>\n",
              "      <td>0.581361</td>\n",
              "      <td>0.780485</td>\n",
              "      <td>0.973195</td>\n",
              "      <td>0.578672</td>\n",
              "      <td>0.384965</td>\n",
              "      <td>0.541471</td>\n",
              "      <td>0.951954</td>\n",
              "      <td>0.551442</td>\n",
              "      <td>0.771943</td>\n",
              "    </tr>\n",
              "    <tr>\n",
              "      <th>audi</th>\n",
              "      <td>NaN</td>\n",
              "      <td>0</td>\n",
              "      <td>0.507902</td>\n",
              "      <td>0.62583</td>\n",
              "      <td>0.565484</td>\n",
              "      <td>0.319602</td>\n",
              "      <td>0.384342</td>\n",
              "      <td>0.421193</td>\n",
              "      <td>0.375636</td>\n",
              "      <td>0.561838</td>\n",
              "    </tr>\n",
              "    <tr>\n",
              "      <th>acura</th>\n",
              "      <td>NaN</td>\n",
              "      <td>NaN</td>\n",
              "      <td>0</td>\n",
              "      <td>0.302688</td>\n",
              "      <td>0.464783</td>\n",
              "      <td>0.382366</td>\n",
              "      <td>0.253136</td>\n",
              "      <td>0.895701</td>\n",
              "      <td>0.393095</td>\n",
              "      <td>0.597202</td>\n",
              "    </tr>\n",
              "    <tr>\n",
              "      <th>honda</th>\n",
              "      <td>NaN</td>\n",
              "      <td>NaN</td>\n",
              "      <td>NaN</td>\n",
              "      <td>0</td>\n",
              "      <td>0.494084</td>\n",
              "      <td>0.707897</td>\n",
              "      <td>0.50952</td>\n",
              "      <td>0.504508</td>\n",
              "      <td>0.776848</td>\n",
              "      <td>0.317935</td>\n",
              "    </tr>\n",
              "    <tr>\n",
              "      <th>sedan</th>\n",
              "      <td>NaN</td>\n",
              "      <td>NaN</td>\n",
              "      <td>NaN</td>\n",
              "      <td>NaN</td>\n",
              "      <td>0</td>\n",
              "      <td>0.416348</td>\n",
              "      <td>0.397643</td>\n",
              "      <td>0.892457</td>\n",
              "      <td>0.494</td>\n",
              "      <td>0.771943</td>\n",
              "    </tr>\n",
              "    <tr>\n",
              "      <th>mercedes</th>\n",
              "      <td>NaN</td>\n",
              "      <td>NaN</td>\n",
              "      <td>NaN</td>\n",
              "      <td>NaN</td>\n",
              "      <td>NaN</td>\n",
              "      <td>0</td>\n",
              "      <td>0.244896</td>\n",
              "      <td>0.807579</td>\n",
              "      <td>0.242667</td>\n",
              "      <td>0.632</td>\n",
              "    </tr>\n",
              "    <tr>\n",
              "      <th>infiniti</th>\n",
              "      <td>NaN</td>\n",
              "      <td>NaN</td>\n",
              "      <td>NaN</td>\n",
              "      <td>NaN</td>\n",
              "      <td>NaN</td>\n",
              "      <td>NaN</td>\n",
              "      <td>0</td>\n",
              "      <td>0.804832</td>\n",
              "      <td>0.30472</td>\n",
              "      <td>0.472388</td>\n",
              "    </tr>\n",
              "    <tr>\n",
              "      <th>volkswagen</th>\n",
              "      <td>NaN</td>\n",
              "      <td>NaN</td>\n",
              "      <td>NaN</td>\n",
              "      <td>NaN</td>\n",
              "      <td>NaN</td>\n",
              "      <td>NaN</td>\n",
              "      <td>NaN</td>\n",
              "      <td>0</td>\n",
              "      <td>1.01771</td>\n",
              "      <td>0.426522</td>\n",
              "    </tr>\n",
              "    <tr>\n",
              "      <th>cadillac</th>\n",
              "      <td>NaN</td>\n",
              "      <td>NaN</td>\n",
              "      <td>NaN</td>\n",
              "      <td>NaN</td>\n",
              "      <td>NaN</td>\n",
              "      <td>NaN</td>\n",
              "      <td>NaN</td>\n",
              "      <td>NaN</td>\n",
              "      <td>0</td>\n",
              "      <td>0.49296</td>\n",
              "    </tr>\n",
              "    <tr>\n",
              "      <th>toyota</th>\n",
              "      <td>NaN</td>\n",
              "      <td>NaN</td>\n",
              "      <td>NaN</td>\n",
              "      <td>NaN</td>\n",
              "      <td>NaN</td>\n",
              "      <td>NaN</td>\n",
              "      <td>NaN</td>\n",
              "      <td>NaN</td>\n",
              "      <td>NaN</td>\n",
              "      <td>0</td>\n",
              "    </tr>\n",
              "  </tbody>\n",
              "</table>\n",
              "</div>"
            ],
            "text/plain": [
              "            bmw      audi     acura  ... volkswagen  cadillac    toyota\n",
              "bmw           0  0.581361  0.780485  ...   0.951954  0.551442  0.771943\n",
              "audi        NaN         0  0.507902  ...   0.421193  0.375636  0.561838\n",
              "acura       NaN       NaN         0  ...   0.895701  0.393095  0.597202\n",
              "honda       NaN       NaN       NaN  ...   0.504508  0.776848  0.317935\n",
              "sedan       NaN       NaN       NaN  ...   0.892457     0.494  0.771943\n",
              "mercedes    NaN       NaN       NaN  ...   0.807579  0.242667     0.632\n",
              "infiniti    NaN       NaN       NaN  ...   0.804832   0.30472  0.472388\n",
              "volkswagen  NaN       NaN       NaN  ...          0   1.01771  0.426522\n",
              "cadillac    NaN       NaN       NaN  ...        NaN         0   0.49296\n",
              "toyota      NaN       NaN       NaN  ...        NaN       NaN         0\n",
              "\n",
              "[10 rows x 10 columns]"
            ]
          },
          "metadata": {
            "tags": []
          },
          "execution_count": 18
        }
      ]
    },
    {
      "cell_type": "code",
      "metadata": {
        "id": "qCHeZW4Aw9ft",
        "outputId": "4dda4aec-fb71-40aa-8341-31aef0d35197",
        "colab": {
          "base_uri": "https://localhost:8080/",
          "height": 359
        }
      },
      "source": [
        "size = dis_matrix_df.shape # Populating the dissimilarity values in each row of the table \n",
        "for j in range(size[0]):\n",
        "      for i in range(size[0]):\n",
        "            dis_matrix_df.iloc[i,j]=dis_matrix_df.iloc[j,i]\n",
        "dis_matrix_df"
      ],
      "execution_count": 19,
      "outputs": [
        {
          "output_type": "execute_result",
          "data": {
            "text/html": [
              "<div>\n",
              "<style scoped>\n",
              "    .dataframe tbody tr th:only-of-type {\n",
              "        vertical-align: middle;\n",
              "    }\n",
              "\n",
              "    .dataframe tbody tr th {\n",
              "        vertical-align: top;\n",
              "    }\n",
              "\n",
              "    .dataframe thead th {\n",
              "        text-align: right;\n",
              "    }\n",
              "</style>\n",
              "<table border=\"1\" class=\"dataframe\">\n",
              "  <thead>\n",
              "    <tr style=\"text-align: right;\">\n",
              "      <th></th>\n",
              "      <th>bmw</th>\n",
              "      <th>audi</th>\n",
              "      <th>acura</th>\n",
              "      <th>honda</th>\n",
              "      <th>sedan</th>\n",
              "      <th>mercedes</th>\n",
              "      <th>infiniti</th>\n",
              "      <th>volkswagen</th>\n",
              "      <th>cadillac</th>\n",
              "      <th>toyota</th>\n",
              "    </tr>\n",
              "  </thead>\n",
              "  <tbody>\n",
              "    <tr>\n",
              "      <th>bmw</th>\n",
              "      <td>0</td>\n",
              "      <td>0.581361</td>\n",
              "      <td>0.780485</td>\n",
              "      <td>0.973195</td>\n",
              "      <td>0.578672</td>\n",
              "      <td>0.384965</td>\n",
              "      <td>0.541471</td>\n",
              "      <td>0.951954</td>\n",
              "      <td>0.551442</td>\n",
              "      <td>0.771943</td>\n",
              "    </tr>\n",
              "    <tr>\n",
              "      <th>audi</th>\n",
              "      <td>0.581361</td>\n",
              "      <td>0</td>\n",
              "      <td>0.507902</td>\n",
              "      <td>0.62583</td>\n",
              "      <td>0.565484</td>\n",
              "      <td>0.319602</td>\n",
              "      <td>0.384342</td>\n",
              "      <td>0.421193</td>\n",
              "      <td>0.375636</td>\n",
              "      <td>0.561838</td>\n",
              "    </tr>\n",
              "    <tr>\n",
              "      <th>acura</th>\n",
              "      <td>0.780485</td>\n",
              "      <td>0.507902</td>\n",
              "      <td>0</td>\n",
              "      <td>0.302688</td>\n",
              "      <td>0.464783</td>\n",
              "      <td>0.382366</td>\n",
              "      <td>0.253136</td>\n",
              "      <td>0.895701</td>\n",
              "      <td>0.393095</td>\n",
              "      <td>0.597202</td>\n",
              "    </tr>\n",
              "    <tr>\n",
              "      <th>honda</th>\n",
              "      <td>0.973195</td>\n",
              "      <td>0.62583</td>\n",
              "      <td>0.302688</td>\n",
              "      <td>0</td>\n",
              "      <td>0.494084</td>\n",
              "      <td>0.707897</td>\n",
              "      <td>0.50952</td>\n",
              "      <td>0.504508</td>\n",
              "      <td>0.776848</td>\n",
              "      <td>0.317935</td>\n",
              "    </tr>\n",
              "    <tr>\n",
              "      <th>sedan</th>\n",
              "      <td>0.578672</td>\n",
              "      <td>0.565484</td>\n",
              "      <td>0.464783</td>\n",
              "      <td>0.494084</td>\n",
              "      <td>0</td>\n",
              "      <td>0.416348</td>\n",
              "      <td>0.397643</td>\n",
              "      <td>0.892457</td>\n",
              "      <td>0.494</td>\n",
              "      <td>0.771943</td>\n",
              "    </tr>\n",
              "    <tr>\n",
              "      <th>mercedes</th>\n",
              "      <td>0.384965</td>\n",
              "      <td>0.319602</td>\n",
              "      <td>0.382366</td>\n",
              "      <td>0.707897</td>\n",
              "      <td>0.416348</td>\n",
              "      <td>0</td>\n",
              "      <td>0.244896</td>\n",
              "      <td>0.807579</td>\n",
              "      <td>0.242667</td>\n",
              "      <td>0.632</td>\n",
              "    </tr>\n",
              "    <tr>\n",
              "      <th>infiniti</th>\n",
              "      <td>0.541471</td>\n",
              "      <td>0.384342</td>\n",
              "      <td>0.253136</td>\n",
              "      <td>0.50952</td>\n",
              "      <td>0.397643</td>\n",
              "      <td>0.244896</td>\n",
              "      <td>0</td>\n",
              "      <td>0.804832</td>\n",
              "      <td>0.30472</td>\n",
              "      <td>0.472388</td>\n",
              "    </tr>\n",
              "    <tr>\n",
              "      <th>volkswagen</th>\n",
              "      <td>0.951954</td>\n",
              "      <td>0.421193</td>\n",
              "      <td>0.895701</td>\n",
              "      <td>0.504508</td>\n",
              "      <td>0.892457</td>\n",
              "      <td>0.807579</td>\n",
              "      <td>0.804832</td>\n",
              "      <td>0</td>\n",
              "      <td>1.01771</td>\n",
              "      <td>0.426522</td>\n",
              "    </tr>\n",
              "    <tr>\n",
              "      <th>cadillac</th>\n",
              "      <td>0.551442</td>\n",
              "      <td>0.375636</td>\n",
              "      <td>0.393095</td>\n",
              "      <td>0.776848</td>\n",
              "      <td>0.494</td>\n",
              "      <td>0.242667</td>\n",
              "      <td>0.30472</td>\n",
              "      <td>1.01771</td>\n",
              "      <td>0</td>\n",
              "      <td>0.49296</td>\n",
              "    </tr>\n",
              "    <tr>\n",
              "      <th>toyota</th>\n",
              "      <td>0.771943</td>\n",
              "      <td>0.561838</td>\n",
              "      <td>0.597202</td>\n",
              "      <td>0.317935</td>\n",
              "      <td>0.771943</td>\n",
              "      <td>0.632</td>\n",
              "      <td>0.472388</td>\n",
              "      <td>0.426522</td>\n",
              "      <td>0.49296</td>\n",
              "      <td>0</td>\n",
              "    </tr>\n",
              "  </tbody>\n",
              "</table>\n",
              "</div>"
            ],
            "text/plain": [
              "                 bmw      audi     acura  ... volkswagen  cadillac    toyota\n",
              "bmw                0  0.581361  0.780485  ...   0.951954  0.551442  0.771943\n",
              "audi        0.581361         0  0.507902  ...   0.421193  0.375636  0.561838\n",
              "acura       0.780485  0.507902         0  ...   0.895701  0.393095  0.597202\n",
              "honda       0.973195   0.62583  0.302688  ...   0.504508  0.776848  0.317935\n",
              "sedan       0.578672  0.565484  0.464783  ...   0.892457     0.494  0.771943\n",
              "mercedes    0.384965  0.319602  0.382366  ...   0.807579  0.242667     0.632\n",
              "infiniti    0.541471  0.384342  0.253136  ...   0.804832   0.30472  0.472388\n",
              "volkswagen  0.951954  0.421193  0.895701  ...          0   1.01771  0.426522\n",
              "cadillac    0.551442  0.375636  0.393095  ...    1.01771         0   0.49296\n",
              "toyota      0.771943  0.561838  0.597202  ...   0.426522   0.49296         0\n",
              "\n",
              "[10 rows x 10 columns]"
            ]
          },
          "metadata": {
            "tags": []
          },
          "execution_count": 19
        }
      ]
    },
    {
      "cell_type": "code",
      "metadata": {
        "id": "pJmrSTMNCIEZ",
        "outputId": "80b93c19-a149-40cf-bb31-3d9d11d908c6",
        "colab": {
          "base_uri": "https://localhost:8080/",
          "height": 323
        }
      },
      "source": [
        "# Defining X to be the dissmilarity value\n",
        "X = dis_matrix_df\n",
        "\n",
        "mds = MDS(2,random_state=0)\n",
        "X_2d = mds.fit_transform(X)\n",
        "\n",
        "x = []\n",
        "y=[]\n",
        "for i in range(len(X_2d)):\n",
        "  x.append(X_2d[i][0])\n",
        "  y.append(X_2d[i][1])\n",
        "\n",
        "plt.scatter(x,y)\n",
        "plt.show\n",
        "# Plotting the mds plot using the dissimilarity matrix\n",
        "for brand, x, y in zip(brand_list, x, y):\n",
        "    plt.annotate(brand, (x,y))\n",
        "        "
      ],
      "execution_count": 20,
      "outputs": [
        {
          "output_type": "stream",
          "text": [
            "/usr/local/lib/python3.6/dist-packages/sklearn/manifold/_mds.py:419: UserWarning: The MDS API has changed. ``fit`` now constructs an dissimilarity matrix from data. To use a custom dissimilarity matrix, set ``dissimilarity='precomputed'``.\n",
            "  warnings.warn(\"The MDS API has changed. ``fit`` now constructs an\"\n"
          ],
          "name": "stderr"
        },
        {
          "output_type": "display_data",
          "data": {
            "image/png": "[encoded data removed]",
            "text/plain": [
              "<Figure size 432x288 with 1 Axes>"
            ]
          },
          "metadata": {
            "tags": [],
            "needs_background": "light"
          }
        }
      ]
    },
    {
      "cell_type": "markdown",
      "metadata": {
        "id": "9_QI4JoaNdzu"
      },
      "source": [
        "**TASK B: What insights can you offer brand managers from your analysis in Task A (choose two brands that you can offer the most interesting/useful insights for)?**"
      ]
    },
    {
      "cell_type": "markdown",
      "metadata": {
        "id": "kJhuyHLjuDtf"
      },
      "source": [
        "Based on the lift analysis between our top 10 brands, we found that *Mercedes*  and  *Cadillac* have the highest association, with a **lift of 4.12**. Both of these brands are also mentioned in our top 10 brands, with a frequency of **275** and **255** respectively. Both Mercedes and Cadillac are known to exude luxury and power, and can be seen as competitors in that sphere. However, it was interesting to see how closely associated they were in our analysis. Looking at Mercedes, it is known to have more expensive cars, possibly due to their engineering and design, compared to Cadillac’s cars. There are also some Mercedes cars that are known to be more powerful, especially among the AMG models. Cadillac, on the other hand, rose significantly in popularity much earlier on, and is now trailing behind other luxury car brands, including Mercedes, BMW, and Audi, which were also listed higher in our ranking of top 10 brands. In addition, Mercedes seems to be extremely well-known on a global scale, but Cadillac is more popular within the United States, Canada, and China. This implies that Cadillac has a lot of room to grow in order to remain competitive with the other luxury brands. They may have to implement production and marketing strategies that could expand its cars into a wider market. For instance, the reason behind high Cadillac sales in China is because General Motors assembles the majority of Cadillac cars within China, instead of importing them. Based on this past success and its close association with Mercedes in our analysis, it would be extremely beneficial for Cadillac to expand into other markets, especially larger ones, such as Europe and India. In addition, Cadillac could focus on staying current with the SUV/hybrid trend, and expand their car lineup within that area. Mercedes has been very successful in terms of expanding to global markets. One aspect they could focus on is car pricing, and trying to make some of the models more affordable to a larger population."
      ]
    },
    {
      "cell_type": "markdown",
      "metadata": {
        "id": "gu3XETUsNgrY"
      },
      "source": [
        "**TASK C: What are 5 most frequently mentioned attributes of cars in the discussions? Which attributes are most strongly associated with which of these 5 brands? You don’t have to do a sentiment analysis for this assignment**"
      ]
    },
    {
      "cell_type": "code",
      "metadata": {
        "id": "sI3X0nBH4AvN"
      },
      "source": [
        "# List of common attributes or most sought after attributes for cars\n",
        "attribute_words = [\"power\", \"good looks\", \"price\", \"smooth\", \"automatic\", \"manual\", \"suspension\",\n",
        "                   \"economic\", \"value\", \"premium\", \"cheaper\", \"front wheel drive\", \"turbo\", \"turbocharged\",\n",
        "                   \"wheelbase\", \"wheels\", \"alloy\", \"alloy wheels\", \"cruise\", \"control\", \"cruise control\",\n",
        "                   \"keyless\", \"ignition\", \"keyless ignition\", \"navigation\", \"gps\", \"engine\",\n",
        "                   \"front engine\", \"engines\", \"engineering\", \"hatchback\", \"audio\", \"interior\", \n",
        "                   \"exterior\", \"trim\", \"off road\", \"off-road\", \"reliability\", \"cylinder\", \"cylinders\",\n",
        "                   \"pricing\", \"reliability\", \"styling\", \"smoothness\", \"extra power\", \"performance\",\n",
        "                   \"performance pack standard\", \"pack\", \"standard\", \"ultimate\", \"driving\", \"ultimate driving machine\",\n",
        "                   \"comfortable\", \"seats\", \"heated seats\", \"sports\", \"technology\", \n",
        "                   \"tech\", \"powertrain\", \"hybrid\", \"torque\", \"transmission\", \"speed\", \"auto\", \n",
        "                   \"functionality\", \"carbon fiber\", \"motorsport\", \"doors\", \"sound\", \"system\", \n",
        "                   \"dynamics\", \"agility\", \"precise handling\", \"twin turbo\", \"turbocharger\", \"cylinders\", \"cargo\",\n",
        "                   \"design\", \"throttle\", \"gears\"]"
      ],
      "execution_count": 41,
      "outputs": []
    },
    {
      "cell_type": "code",
      "metadata": {
        "id": "PoS0KBtO4Coa"
      },
      "source": [
        "attr_dict = {} # Dictionary to store attributes and associated counts\n",
        "\n",
        "df_comments_copy = df_comments.copy()\n",
        "\n",
        "for brand in brands:\n",
        "  attr_list = []\n",
        "  for comments in df_comments_copy['filtered_comments']:\n",
        "    for attribute in attribute_words:\n",
        "      if (attribute in comments and brand in comments):\n",
        "        attr_list.append(attribute)\n",
        "        attr_dict[attribute] = len(attr_list)\n"
      ],
      "execution_count": 42,
      "outputs": []
    },
    {
      "cell_type": "code",
      "metadata": {
        "id": "gIxo-H_T4OhX",
        "outputId": "014e1892-2731-4b48-905f-2b9b3bd9421c",
        "colab": {
          "base_uri": "https://localhost:8080/",
          "height": 419
        }
      },
      "source": [
        "# Convert dictionary into DataFrame\n",
        "attri_df = pd.DataFrame(list(attr_dict.items()), columns =['Attributes','Count of Attributes']).sort_values(by=('Count of Attributes'), ascending=False)\n",
        "attri_df"
      ],
      "execution_count": 43,
      "outputs": [
        {
          "output_type": "execute_result",
          "data": {
            "text/html": [
              "<div>\n",
              "<style scoped>\n",
              "    .dataframe tbody tr th:only-of-type {\n",
              "        vertical-align: middle;\n",
              "    }\n",
              "\n",
              "    .dataframe tbody tr th {\n",
              "        vertical-align: top;\n",
              "    }\n",
              "\n",
              "    .dataframe thead th {\n",
              "        text-align: right;\n",
              "    }\n",
              "</style>\n",
              "<table border=\"1\" class=\"dataframe\">\n",
              "  <thead>\n",
              "    <tr style=\"text-align: right;\">\n",
              "      <th></th>\n",
              "      <th>Attributes</th>\n",
              "      <th>Count of Attributes</th>\n",
              "    </tr>\n",
              "  </thead>\n",
              "  <tbody>\n",
              "    <tr>\n",
              "      <th>70</th>\n",
              "      <td>agility</td>\n",
              "      <td>1972</td>\n",
              "    </tr>\n",
              "    <tr>\n",
              "      <th>66</th>\n",
              "      <td>turbocharged</td>\n",
              "      <td>1004</td>\n",
              "    </tr>\n",
              "    <tr>\n",
              "      <th>57</th>\n",
              "      <td>twin turbo</td>\n",
              "      <td>989</td>\n",
              "    </tr>\n",
              "    <tr>\n",
              "      <th>50</th>\n",
              "      <td>throttle</td>\n",
              "      <td>978</td>\n",
              "    </tr>\n",
              "    <tr>\n",
              "      <th>24</th>\n",
              "      <td>design</td>\n",
              "      <td>977</td>\n",
              "    </tr>\n",
              "    <tr>\n",
              "      <th>...</th>\n",
              "      <td>...</td>\n",
              "      <td>...</td>\n",
              "    </tr>\n",
              "    <tr>\n",
              "      <th>74</th>\n",
              "      <td>turbocharger</td>\n",
              "      <td>13</td>\n",
              "    </tr>\n",
              "    <tr>\n",
              "      <th>69</th>\n",
              "      <td>extra power</td>\n",
              "      <td>9</td>\n",
              "    </tr>\n",
              "    <tr>\n",
              "      <th>42</th>\n",
              "      <td>smoothness</td>\n",
              "      <td>8</td>\n",
              "    </tr>\n",
              "    <tr>\n",
              "      <th>20</th>\n",
              "      <td>pricing</td>\n",
              "      <td>8</td>\n",
              "    </tr>\n",
              "    <tr>\n",
              "      <th>61</th>\n",
              "      <td>wheelbase</td>\n",
              "      <td>6</td>\n",
              "    </tr>\n",
              "  </tbody>\n",
              "</table>\n",
              "<p>76 rows × 2 columns</p>\n",
              "</div>"
            ],
            "text/plain": [
              "      Attributes  Count of Attributes\n",
              "70       agility                 1972\n",
              "66  turbocharged                 1004\n",
              "57    twin turbo                  989\n",
              "50      throttle                  978\n",
              "24        design                  977\n",
              "..           ...                  ...\n",
              "74  turbocharger                   13\n",
              "69   extra power                    9\n",
              "42    smoothness                    8\n",
              "20       pricing                    8\n",
              "61     wheelbase                    6\n",
              "\n",
              "[76 rows x 2 columns]"
            ]
          },
          "metadata": {
            "tags": []
          },
          "execution_count": 43
        }
      ]
    },
    {
      "cell_type": "code",
      "metadata": {
        "id": "OuTpce8Z8kPL"
      },
      "source": [
        "# Get the top 5 brands/attribute pairs\n",
        "pair_list = []\n",
        "\n",
        "top_5_brands = brand_counts.nlargest(6, 'count')\n",
        "\n",
        "top_5_attr=attri_df.nlargest(5, 'Count of Attributes')\n",
        "\n",
        "brand_list = list(top_5_brands['brand'])\n",
        "brand_list.remove('sedan')\n",
        "attr_list = list(top_5_attr['Attributes'])\n",
        "for brand in brand_list:\n",
        "  for attr in attr_list:\n",
        "    pair_list.append([brand, attr])"
      ],
      "execution_count": 57,
      "outputs": []
    },
    {
      "cell_type": "code",
      "metadata": {
        "id": "b87nH70iAJ-0"
      },
      "source": [
        "# Calculate lift\n",
        "samples = df_comments.shape[0]\n",
        "\n",
        "def calcLift2(brand, attr):\n",
        "  # Getting the frequency of the brand in each comment\n",
        "  brandfreq = sum(df_comments.apply(lambda x: brand in x['filtered_comments'], axis=1)) \n",
        "  # Getting the frequency of attribute in each comment\n",
        "  attrfreq = sum(df_comments.apply(lambda x: attr in x['filtered_comments'], axis=1))\n",
        "  # Getting the frequency of brand and attribute in each comment\n",
        "  bothFreq = sum(df_comments.apply(lambda x: brand in x['filtered_comments'] and attr in x['filtered_comments'], axis=1))\n",
        "  # Applying the lift formula\n",
        "  lift = float(bothFreq*samples)/(float(brandfreq)*(float(attrfreq))) \n",
        "  return lift\n",
        "\n",
        "# A dictionary to save all lift values\n",
        "lift_dict ={}\n",
        "\n",
        "# Passing each pair of brands into the lift calculation function \n",
        "for combo in pair_list:\n",
        "  brand, attr = combo[0], combo[1]\n",
        "  lift_value= calcLift2(brand, attr)\n",
        "\n",
        "  lift_dict[brand, attr] = lift_value # Saving the lift value to the dictionary\n"
      ],
      "execution_count": 58,
      "outputs": []
    },
    {
      "cell_type": "code",
      "metadata": {
        "id": "_tC1qpMTA-gm",
        "outputId": "57af39b1-9463-42e6-bcc5-8d844bfea69b",
        "colab": {
          "base_uri": "https://localhost:8080/",
          "height": 204
        }
      },
      "source": [
        "# Converting the dictionary to a dataframe to display in a table format\n",
        "lift_df = pd.DataFrame(columns=attr_list, index=brand_list)\n",
        "\n",
        "for value in lift_dict: # Populating the table with the appropriate lift values\n",
        "  brand, attr = value\n",
        "  lift_df.loc[brand, attr] = lift_dict[brand, attr]\n",
        "\n",
        "lift_df"
      ],
      "execution_count": 59,
      "outputs": [
        {
          "output_type": "execute_result",
          "data": {
            "text/html": [
              "<div>\n",
              "<style scoped>\n",
              "    .dataframe tbody tr th:only-of-type {\n",
              "        vertical-align: middle;\n",
              "    }\n",
              "\n",
              "    .dataframe tbody tr th {\n",
              "        vertical-align: top;\n",
              "    }\n",
              "\n",
              "    .dataframe thead th {\n",
              "        text-align: right;\n",
              "    }\n",
              "</style>\n",
              "<table border=\"1\" class=\"dataframe\">\n",
              "  <thead>\n",
              "    <tr style=\"text-align: right;\">\n",
              "      <th></th>\n",
              "      <th>agility</th>\n",
              "      <th>turbocharged</th>\n",
              "      <th>twin turbo</th>\n",
              "      <th>throttle</th>\n",
              "      <th>design</th>\n",
              "    </tr>\n",
              "  </thead>\n",
              "  <tbody>\n",
              "    <tr>\n",
              "      <th>bmw</th>\n",
              "      <td>0.95943</td>\n",
              "      <td>0.697767</td>\n",
              "      <td>1.59905</td>\n",
              "      <td>2.13207</td>\n",
              "      <td>1.4527</td>\n",
              "    </tr>\n",
              "    <tr>\n",
              "      <th>audi</th>\n",
              "      <td>2.54114</td>\n",
              "      <td>0.462026</td>\n",
              "      <td>1.27057</td>\n",
              "      <td>2.07056</td>\n",
              "      <td>2.03866</td>\n",
              "    </tr>\n",
              "    <tr>\n",
              "      <th>acura</th>\n",
              "      <td>6.20079</td>\n",
              "      <td>1.50322</td>\n",
              "      <td>0</td>\n",
              "      <td>1.83727</td>\n",
              "      <td>2.24209</td>\n",
              "    </tr>\n",
              "    <tr>\n",
              "      <th>honda</th>\n",
              "      <td>1.33114</td>\n",
              "      <td>1.9362</td>\n",
              "      <td>0</td>\n",
              "      <td>0</td>\n",
              "      <td>2.46674</td>\n",
              "    </tr>\n",
              "    <tr>\n",
              "      <th>mercedes</th>\n",
              "      <td>0</td>\n",
              "      <td>3.24675</td>\n",
              "      <td>0</td>\n",
              "      <td>1.32275</td>\n",
              "      <td>2.32042</td>\n",
              "    </tr>\n",
              "  </tbody>\n",
              "</table>\n",
              "</div>"
            ],
            "text/plain": [
              "          agility turbocharged twin turbo throttle   design\n",
              "bmw       0.95943     0.697767    1.59905  2.13207   1.4527\n",
              "audi      2.54114     0.462026    1.27057  2.07056  2.03866\n",
              "acura     6.20079      1.50322          0  1.83727  2.24209\n",
              "honda     1.33114       1.9362          0        0  2.46674\n",
              "mercedes        0      3.24675          0  1.32275  2.32042"
            ]
          },
          "metadata": {
            "tags": []
          },
          "execution_count": 59
        }
      ]
    },
    {
      "cell_type": "markdown",
      "metadata": {
        "id": "bHpIpUpKckSf"
      },
      "source": [
        "The top 5 brands in descending order are: BMW, Audi, Acura, Honda, Mercedes.\n",
        "\n",
        "1. BMW\n",
        "2. Audi\n",
        "3. Acura\n",
        "4. Honda\n",
        "5. Mercedes   \n",
        "\n",
        "The top attributes for these brands are as follows:\n",
        "1. BMW: Throttle\n",
        "2. Audi: Agility\n",
        "3. Acura: Agility\n",
        "4. Honda: Design\n",
        "5. Mercedes: Turbocharged\n",
        "\n"
      ]
    },
    {
      "cell_type": "markdown",
      "metadata": {
        "id": "1unLkuEWNjyE"
      },
      "source": [
        "**TASK D: What advice will you give to a (i) product manager, and (ii) marketing/advertising manager of these brands based on your analysis in Task C? For this assignment, you can assume the sentiment (e.g., that it is positive)**"
      ]
    },
    {
      "cell_type": "markdown",
      "metadata": {
        "id": "UQF7rn2-1muP"
      },
      "source": [
        "# **Product** **Manager**:\n",
        "\n",
        "1. **BMW**: \n",
        "The most associated attribute word is \"*throttle*\", as seen from the lift analysis table above. In a standard car, the throttle system controls the air entering the engine by way of a butterfly valve that responds to your foot pressing the throttle pedal. That's not what happens in a BMW with the Valvetronic system. The current throttle system in BMW's is more efficient in terms of air delivery and results in improved fuel economy. Hence, the product manager should continue to implement their strategy for this product. However, there's a low mention of BMW with the attribute \"*turbocharged*\" in the comments. The product manager should focus on improving the turbocharged engines in their cars to make the brand more attractive in order to expand to a larger consumer base. Also, there's more mentions of \"*twin turbo*\" with BMW. The managers should strategize and focus on possibly replacing turbocharged engines with twin turbo engines for their cars.\n",
        "\n",
        "2. **Audi**: \n",
        "Given that Audi is a luxury brand, it is normal that \"*agility*\" is the most common attribute for it. However, there is not much relation of the brand with the attribute \"*turbocharged*\". Audi has offered electric turbos in other markets for a few years, but the technology is only just now coming to the United States in 2020. This explains why there's a low correlation, since we extracted the latest comments from the forum. However, we think that Audi should give more importance to this feature, even though it’s in the early stages of implementation, as it has a huge potential to drive the brand to success.\n",
        "\n",
        "3. **Acura**:\n",
        "Out of the top 5 brands, Acura is highly associated with the \"*agility*\" feature/attribute. In fact, it outcompetes the other brands because of this high correlation. However, there is no mention of Acura with \"*twin turbo*\". The first model that had the twin turbo feature was introduced in 2016, which is pretty recent. Acura would need to advertise this attribute more, so that they can outcompete Mercedes and Honda who are also having low association with twin turbo.\n",
        "\n",
        "4. **Honda and Mercedes**:\n",
        "Consumers highly associate Mercedes and Honda with \"*design*”, but based on our lift analysis, Honda is slightly more associated with design. Product managers for Mercedes's upcoming model years should focus on improving the quality of their models' interiors, paying particular attention to features like more leg room and sufficient head room for tall passengers--just as Honda does. In addition, it is surprising that Honda has low relation with \"*agility*\", given that Acura is a division of Honda and it has the most relation with agility. Both Mercedes and Honda's product managers should improve their cars to adapt to \"*twin turbo*\" engines as well. \n",
        "\n",
        "\n",
        "\n"
      ]
    },
    {
      "cell_type": "markdown",
      "metadata": {
        "id": "VAC0yRbwKdAL"
      },
      "source": [
        "#**Advertising/Marketing Manager**\n",
        "\n",
        "1. **BMW**:\n",
        "In terms of marketing strategies, BMW should continue to enhance the connection between its cars and the ideas of power and luxury. For instance, since one of the highest lift values was with the attribute “twin turbo”, BMW advertising could focus on showcasing the efficiency and performance of the engines. On the luxury side, BMW could enhance more of the interior design, look, and feel aspect of the cars. Another advertising strategy would be to combine both and showcase the synergy between power and luxury. Together, these approaches would cater to a wider consumer base, from those who are interested in the mechanics of the car, to those who appreciate the added luxury.\n",
        "\n",
        "2. **Audi**:\n",
        "Audi only seems to have quite moderate lift associations with the top 5 attributes, compared to the other brands. Based on this lift analysis, the best strategy would be to capitalize on agility and design, since those had higher associations. Advertising strategies could focus on emphasizing Audi’s sleek exterior and interior design, along with showcasing parts related to agility, such as wheels and steering motion.\n",
        "\n",
        "3. **Acura**:\n",
        "Based on our lift analysis, the highest association we found was between Acura and the attribute “agility”. This would imply that Acura should focus their marketing and advertising on car features that describe this attribute. To people who are more familiar with cars, this could be done by showcasing the cars’ engine performance and efficiency. For those who are more into the looks and comfort of the car, advertising could focus on more commonly known attributes associated with agility, such as the wheels and steering wheel maneuvers.\n",
        "\n",
        "4. **Honda and Mercedes**:\n",
        "In terms of advertising, Mercedes and Honda would probably have very similar strategies, especially when showcasing the design and features of their cars. However, based on our lift values, the association between these two brands and design is very close. This would mean that both brands would have to gain some competitive edge in advertising design-related attributes of the car. Mercedes does have a much higher association with “turbocharged” and “throttle”, implying that these could be possible attributes that it can highlight in their advertisements to have that competitive edge over Honda. Honda, on the other hand, would really need to maximize on showcasing agility and design in a fresh and sleek way, in order to overcome the popularity and demand of its strong competitor, Mercedes.\n",
        "\n",
        "\n",
        "\n"
      ]
    },
    {
      "cell_type": "markdown",
      "metadata": {
        "id": "HNLCwl6FNmPZ"
      },
      "source": [
        "\n",
        "**TASK E: Which is the most aspirational brand in your data in terms of people actually wanting to buy or own? Describe your analysis. What are the business implications for this brand?**\n",
        "\n",
        "\n"
      ]
    },
    {
      "cell_type": "code",
      "metadata": {
        "id": "_EAvTy1nqRDh"
      },
      "source": [
        "# Specifying a list of aspirational phrases\n",
        "aspirations = ['want to', 'need to', 'love to','like to', 'hope to', 'desire to', 'would like', 'really want', 'would love', 'dream car', 'dream of', 'dreamt of', 'wish to', 'thinking to', \"can't wait to\", 'nice to have', 'nice to own', 'looking to', 'wanting to', 'future car', 'buy', 'aspire to']"
      ],
      "execution_count": 27,
      "outputs": []
    },
    {
      "cell_type": "code",
      "metadata": {
        "id": "wXhM52K3Ps6A"
      },
      "source": [
        "# Dictionary to store all aspirational phrases related to a brand\n",
        "asp_dict = {}\n",
        "df_comments_copy = df_comments.copy()\n",
        "\n",
        "for brand in brands: # Look at each brand in brand list\n",
        "  phrase_list=[] # Create a phrase list for each brand to store phrases related to it\n",
        "  for comments in df_comments_copy[\"filtered_comments\"]: # Go through each comment\n",
        "    for phrase in aspirations: # Go through each phrase in aspirations\n",
        "      if (phrase in comments and brand in comments): # If the phrase and brand occur in the same comment\n",
        "        phrase_list.append(phrase) # Add the phrase associated with a brand to the phrase list \n",
        "        asp_dict[brand]=len(phrase_list) # Count the elements in the phrase list for each brand and add that to the main asp_dictionary\n",
        "        \n"
      ],
      "execution_count": 60,
      "outputs": []
    },
    {
      "cell_type": "code",
      "metadata": {
        "id": "JopNhMpBix3e"
      },
      "source": [
        "# Change the asp_dict to a dataframe to easily sort for the highest count\n",
        "aspirations_df= pd.DataFrame(list(asp_dict.items()), columns =['Brand','Count of Aspirational Phrases']).sort_values(by=('Count of Aspirational Phrases'), ascending=False)\n",
        "\n",
        "# Setting brand column as the index\n",
        "phrase_df=aspirations_df.set_index('Brand') "
      ],
      "execution_count": 29,
      "outputs": []
    },
    {
      "cell_type": "code",
      "metadata": {
        "id": "_Wj2EeGetpVI"
      },
      "source": [
        "# Defining the sample size for lift calculation\n",
        "samples = df_comments_copy.shape[0]\n",
        "\n",
        "def calcLift(brand, asp_phrase_freq, bothFreq):\n",
        "  # Calculates the number of times the brand appears in a comment\n",
        "  brandfreq = sum(df_comments_copy.apply(lambda x: brand in x['filtered_comments'], axis=1))  \n",
        "  \n",
        "  # Lift formula\n",
        "  lift = float(bothFreq*samples)/(float(brandfreq)*(float(asp_phrase_freq))) \n",
        "  return lift\n",
        "\n",
        "lift_dict = {} # Dictionary to store a brand and its lift value\n",
        "\n",
        "aspirations_df_copy = aspirations_df.copy()\n",
        "# Loop through each brand in the apsirations dataframe \n",
        "for brand in aspirations_df_copy['Brand']:\n",
        "  asp_phrase_freq = phrase_df.sum() # Get the total count of the aspiration phrase column\n",
        "  bothFreq = phrase_df.loc[brand, 'Count of Aspirational Phrases'] # Gets the total count for each brand \n",
        "  lift_value = calcLift(brand, asp_phrase_freq, bothFreq) # Passing values to the lift function\n",
        "\n",
        "  lift_dict[brand] = lift_value # Add the brand and the lift value to the lift dict"
      ],
      "execution_count": 30,
      "outputs": []
    },
    {
      "cell_type": "code",
      "metadata": {
        "id": "0qb6Uzkv4bnx",
        "outputId": "785820cb-44f1-4a27-afde-0ba1be45c27d",
        "colab": {
          "base_uri": "https://localhost:8080/",
          "height": 359
        }
      },
      "source": [
        "# Create a dataframe to store brand and lift value -- from the lift_dict\n",
        "asp_lift_df = pd.DataFrame.from_dict(lift_dict, orient='index', columns = ['Lift Value']).sort_values(by=('Lift Value'), ascending=False)\n",
        "asp_lift_df.head(10)"
      ],
      "execution_count": 31,
      "outputs": [
        {
          "output_type": "execute_result",
          "data": {
            "text/html": [
              "<div>\n",
              "<style scoped>\n",
              "    .dataframe tbody tr th:only-of-type {\n",
              "        vertical-align: middle;\n",
              "    }\n",
              "\n",
              "    .dataframe tbody tr th {\n",
              "        vertical-align: top;\n",
              "    }\n",
              "\n",
              "    .dataframe thead th {\n",
              "        text-align: right;\n",
              "    }\n",
              "</style>\n",
              "<table border=\"1\" class=\"dataframe\">\n",
              "  <thead>\n",
              "    <tr style=\"text-align: right;\">\n",
              "      <th></th>\n",
              "      <th>Lift Value</th>\n",
              "    </tr>\n",
              "  </thead>\n",
              "  <tbody>\n",
              "    <tr>\n",
              "      <th>suzuki</th>\n",
              "      <td>1.646801</td>\n",
              "    </tr>\n",
              "    <tr>\n",
              "      <th>chevrolet</th>\n",
              "      <td>1.124644</td>\n",
              "    </tr>\n",
              "    <tr>\n",
              "      <th>pontiac</th>\n",
              "      <td>1.122819</td>\n",
              "    </tr>\n",
              "    <tr>\n",
              "      <th>mercury</th>\n",
              "      <td>1.097867</td>\n",
              "    </tr>\n",
              "    <tr>\n",
              "      <th>saturn</th>\n",
              "      <td>1.097867</td>\n",
              "    </tr>\n",
              "    <tr>\n",
              "      <th>mercedes</th>\n",
              "      <td>0.941029</td>\n",
              "    </tr>\n",
              "    <tr>\n",
              "      <th>ford</th>\n",
              "      <td>0.916719</td>\n",
              "    </tr>\n",
              "    <tr>\n",
              "      <th>hyundai</th>\n",
              "      <td>0.891717</td>\n",
              "    </tr>\n",
              "    <tr>\n",
              "      <th>chrysler</th>\n",
              "      <td>0.878294</td>\n",
              "    </tr>\n",
              "    <tr>\n",
              "      <th>nissan</th>\n",
              "      <td>0.861403</td>\n",
              "    </tr>\n",
              "  </tbody>\n",
              "</table>\n",
              "</div>"
            ],
            "text/plain": [
              "           Lift Value\n",
              "suzuki       1.646801\n",
              "chevrolet    1.124644\n",
              "pontiac      1.122819\n",
              "mercury      1.097867\n",
              "saturn       1.097867\n",
              "mercedes     0.941029\n",
              "ford         0.916719\n",
              "hyundai      0.891717\n",
              "chrysler     0.878294\n",
              "nissan       0.861403"
            ]
          },
          "metadata": {
            "tags": []
          },
          "execution_count": 31
        }
      ]
    },
    {
      "cell_type": "markdown",
      "metadata": {
        "id": "U52lLL1ZLsPS"
      },
      "source": [
        "For this task, we chose aspirational phrases like 'want to', 'need to', 'love to', 'like to', 'hope to', 'desire to' to represent a user's want/need to actually own or buy a car of a specific brand. In order to do this, we found the frequency of the brand and each of the aspirational phrases occurring together in each comment. From this, we were able to find possible pairs of brand and aspirational phrase, which helped us to calculate the lift value. Based on the lift values, we surprisingly found that ***Suzuki*** was the most aspirational brand. This is closely followed by **Chevrolet**, **Pontiac**, **Mercury** and **Saturn**. \n",
        "Looking at our top 10 brands from Task A, we see that Mercedes was a part of it yet, Suzuki wasn't. We are assuming that the lift ratio becomes bigger when dividing by a small number such as low brand frequency and low aspirational phrase frequency occurring in the same comment. Regarding the business implications, Suzuki can continue to use its current marketing techniques in order to maximize on market perception of their cars. Due to the close lift values of Chevrolet and Pontiac, there may be higher competition between those brands. In a business perspective, Chevrolet and Pontiac would also have to implement unique strategies in order to outcompete one another. This could also apply for Mercury and Saturn which have the same lift value."
      ]
    }
  ]
}